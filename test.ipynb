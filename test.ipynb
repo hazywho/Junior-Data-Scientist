{
 "cells": [
  {
   "cell_type": "code",
   "execution_count": 79,
   "metadata": {},
   "outputs": [
    {
     "name": "stdout",
     "output_type": "stream",
     "text": [
      "       iso_code continent     location       date  total_cases  new_cases  \\\n",
      "0           AFG      Asia  Afghanistan   5/1/2020          NaN        0.0   \n",
      "1           AFG      Asia  Afghanistan   6/1/2020          NaN        0.0   \n",
      "2           AFG      Asia  Afghanistan   7/1/2020          NaN        0.0   \n",
      "3           AFG      Asia  Afghanistan   8/1/2020          NaN        0.0   \n",
      "4           AFG      Asia  Afghanistan   9/1/2020          NaN        0.0   \n",
      "...         ...       ...          ...        ...          ...        ...   \n",
      "390755      ZWE    Africa     Zimbabwe  27/3/2024     266359.0        0.0   \n",
      "390756      ZWE    Africa     Zimbabwe  28/3/2024     266359.0        0.0   \n",
      "390757      ZWE    Africa     Zimbabwe  29/3/2024     266359.0        0.0   \n",
      "390758      ZWE    Africa     Zimbabwe  30/3/2024     266359.0        0.0   \n",
      "390759      ZWE    Africa     Zimbabwe  31/3/2024     266359.0        0.0   \n",
      "\n",
      "        new_cases_smoothed  total_deaths  new_deaths  new_deaths_smoothed  \\\n",
      "0                      NaN           NaN         0.0                  NaN   \n",
      "1                      NaN           NaN         0.0                  NaN   \n",
      "2                      NaN           NaN         0.0                  NaN   \n",
      "3                      NaN           NaN         0.0                  NaN   \n",
      "4                      NaN           NaN         0.0                  NaN   \n",
      "...                    ...           ...         ...                  ...   \n",
      "390755                 0.0        5740.0         0.0                  0.0   \n",
      "390756                 0.0        5740.0         0.0                  0.0   \n",
      "390757                 0.0        5740.0         0.0                  0.0   \n",
      "390758                 0.0        5740.0         0.0                  0.0   \n",
      "390759                 0.0        5740.0         0.0                  0.0   \n",
      "\n",
      "        ...  male_smokers  handwashing_facilities  hospital_beds_per_thousand  \\\n",
      "0       ...           NaN                  37.746                         0.5   \n",
      "1       ...           NaN                  37.746                         0.5   \n",
      "2       ...           NaN                  37.746                         0.5   \n",
      "3       ...           NaN                  37.746                         0.5   \n",
      "4       ...           NaN                  37.746                         0.5   \n",
      "...     ...           ...                     ...                         ...   \n",
      "390755  ...          30.7                  36.791                         1.7   \n",
      "390756  ...          30.7                  36.791                         1.7   \n",
      "390757  ...          30.7                  36.791                         1.7   \n",
      "390758  ...          30.7                  36.791                         1.7   \n",
      "390759  ...          30.7                  36.791                         1.7   \n",
      "\n",
      "        life_expectancy  human_development_index  population  \\\n",
      "0                 64.83                    0.511    41128772   \n",
      "1                 64.83                    0.511    41128772   \n",
      "2                 64.83                    0.511    41128772   \n",
      "3                 64.83                    0.511    41128772   \n",
      "4                 64.83                    0.511    41128772   \n",
      "...                 ...                      ...         ...   \n",
      "390755            61.49                    0.571    16320539   \n",
      "390756            61.49                    0.571    16320539   \n",
      "390757            61.49                    0.571    16320539   \n",
      "390758            61.49                    0.571    16320539   \n",
      "390759            61.49                    0.571    16320539   \n",
      "\n",
      "        excess_mortality_cumulative_absolute  excess_mortality_cumulative  \\\n",
      "0                                        NaN                          NaN   \n",
      "1                                        NaN                          NaN   \n",
      "2                                        NaN                          NaN   \n",
      "3                                        NaN                          NaN   \n",
      "4                                        NaN                          NaN   \n",
      "...                                      ...                          ...   \n",
      "390755                                   NaN                          NaN   \n",
      "390756                                   NaN                          NaN   \n",
      "390757                                   NaN                          NaN   \n",
      "390758                                   NaN                          NaN   \n",
      "390759                                   NaN                          NaN   \n",
      "\n",
      "        excess_mortality  excess_mortality_cumulative_per_million  \n",
      "0                    NaN                                      NaN  \n",
      "1                    NaN                                      NaN  \n",
      "2                    NaN                                      NaN  \n",
      "3                    NaN                                      NaN  \n",
      "4                    NaN                                      NaN  \n",
      "...                  ...                                      ...  \n",
      "390755               NaN                                      NaN  \n",
      "390756               NaN                                      NaN  \n",
      "390757               NaN                                      NaN  \n",
      "390758               NaN                                      NaN  \n",
      "390759               NaN                                      NaN  \n",
      "\n",
      "[390760 rows x 67 columns]\n"
     ]
    }
   ],
   "source": [
    "import pandas as pd\n",
    "\n",
    "df = pd.read_csv('covid-data.csv')\n",
    "df[[\"gdp_per_capital\" , \"life_expectancy\"]]\n",
    "df2 = pd.read_csv('countries of the world.csv')\n",
    "df2[[\"Country\"]]\n",
    "print(df)\n"
   ]
  },
  {
   "cell_type": "code",
   "execution_count": 161,
   "metadata": {},
   "outputs": [
    {
     "name": "stdout",
     "output_type": "stream",
     "text": [
      "[('China', 99347448.0), ('South America', 68826532.0), ('France', 38997490.0), ('Germany', 38437756.0), ('Brazil', 37519960.0), ('South Korea', 34571873.0), ('Japan', 33803572.0), ('United Kingdom', 24915266.0), ('Russia', 24078278.0), ('Turkey', 17004714.0), ('Spain', 13980340.0), ('Australia', 11822999.0), ('Vietnam', 11624000.0), ('Argentina', 10130118.0), ('Mexico', 7709747.0), ('Iran', 7627186.0), ('Indonesia', 6828942.0), ('Poland', 6662019.0), ('Colombia', 6384575.0), ('Austria', 6081287.0), ('Portugal', 5643119.0), ('Ukraine', 5532832.0), ('Chile', 5397438.0), ('Belgium', 4861011.0), ('Israel', 4841558.0), ('Thailand', 4770005.0), ('Peru', 4524748.0), ('Switzerland', 4453191.0), ('Philippines', 4140383.0), ('South Africa', 4072648.0), ('Romania', 3526339.0), ('Denmark', 3434777.0), ('Singapore', 3006155.0), ('Serbia', 2583470.0), ('Iraq', 2465545.0), ('Low income', 2328082.0), ('Hungary', 2230293.0), ('Slovakia', 1877687.0), ('Georgia', 1862326.0), ('Jordan', 1746997.0), ('Ireland', 1735149.0), ('Pakistan', 1580631.0), ('Norway', 1507196.0), ('Kazakhstan', 1503687.0), ('Finland', 1499712.0), ('Slovenia', 1355844.0), ('Croatia', 1316785.0), ('Morocco', 1279024.0), ('Puerto Rico', 1252713.0), ('Guatemala', 1250338.0), ('Lebanon', 1239904.0), ('Costa Rica', 1230653.0), ('Bolivia', 1212131.0), ('Tunisia', 1153361.0), ('Ecuador', 1074656.0), ('United Arab Emirates', 1067030.0), ('Panama', 1044303.0), ('Uruguay', 1037893.0), ('Mongolia', 1011517.0), ('Nepal', 1003450.0), ('Belarus', 994037.0), ('Latvia', 977701.0), ('Saudi Arabia', 841469.0), ('Azerbaijan', 835272.0), ('Paraguay', 735759.0), ('Palestine', 703228.0), ('Bahrain', 696614.0), ('Cyprus', 690547.0), ('Sri Lanka', 672754.0), ('Kuwait', 667185.0), ('Dominican Republic', 661181.0), ('Myanmar', 641951.0), ('Moldova', 635389.0), ('Venezuela', 552695.0), ('Egypt', 516023.0), ('Qatar', 514524.0), ('Libya', 507269.0), ('Ethiopia', 501158.0), ('Reunion', 494595.0), ('Honduras', 472785.0), ('Armenia', 451831.0), ('Bosnia and Herzegovina', 403627.0), ('Oman', 399449.0), ('Luxembourg', 391270.0), ('North Macedonia', 350579.0), ('Zambia', 349558.0), ('Kenya', 344101.0), ('Brunei', 343770.0), ('Albania', 334863.0), ('Botswana', 330643.0), ('Mauritius', 327256.0), ('Kosovo', 274279.0), ('Algeria', 272017.0), ('Nigeria', 267188.0), ('Zimbabwe', 266359.0), ('Montenegro', 251280.0), ('Mozambique', 233772.0), ('Afghanistan', 232948.0), ('Martinique', 230354.0), ('Laos', 218962.0), ('Iceland', 209915.0), ('Guadeloupe', 203235.0), ('El Salvador', 201864.0), ('Trinidad and Tobago', 191496.0), ('Maldives', 186694.0), ('Uzbekistan', 175081.0), ('Namibia', 172399.0), ('Uganda', 172149.0), ('Ghana', 171875.0), ('Jamaica', 156803.0), ('Cambodia', 139100.0), ('Rwanda', 133220.0), ('Cameroon', 125146.0), ('Malta', 121409.0), ('Barbados', 110580.0), ('Angola', 107357.0), ('Democratic Republic of Congo', 99338.0), ('French Guiana', 98041.0), ('Malawi', 89168.0), ('Senegal', 89058.0), ('Kyrgyzstan', 88953.0), (\"Cote d'Ivoire\", 88403.0), ('Suriname', 82496.0), ('New Caledonia', 80064.0), ('French Polynesia', 79301.0), ('Eswatini', 75191.0), ('Guyana', 74099.0), ('Belize', 71409.0), ('Fiji', 69047.0), ('Madagascar', 68493.0), ('Jersey', 66391.0), ('Cape Verde', 64474.0), ('Sudan', 63993.0), ('Mauritania', 63972.0), ('Bhutan', 62697.0), ('Syria', 57423.0), ('Burundi', 54569.0), ('Guam', 52287.0), ('Seychelles', 51831.0), ('Gabon', 49051.0), ('Andorra', 48015.0), ('Papua New Guinea', 46864.0), ('Curacao', 45883.0), ('Aruba', 44224.0), ('Tanzania', 43223.0), ('Mayotte', 42027.0), ('Togo', 39528.0), ('Guinea', 38572.0), ('Bahamas', 38084.0), ('Isle of Man', 38008.0), ('Lesotho', 36138.0), ('Guernsey', 35326.0), ('Faeroe Islands', 34658.0), ('Haiti', 34298.0), ('Mali', 33164.0), ('Cayman Islands', 31472.0), ('Saint Lucia', 30251.0), ('Benin', 28036.0), ('Somalia', 27334.0), ('Micronesia (country)', 26547.0), ('Solomon Islands', 25954.0), ('United States Virgin Islands', 25389.0), ('San Marino', 25292.0), ('Congo', 25216.0), ('Timor', 23460.0), ('Burkina Faso', 22120.0), ('Liechtenstein', 21575.0), ('Gibraltar', 20550.0), ('Grenada', 19693.0), ('Bermuda', 18860.0), ('South Sudan', 18820.0), ('Tajikistan', 17786.0), ('Monaco', 17181.0), ('Equatorial Guinea', 17130.0), ('Samoa', 17057.0), ('Tonga', 16958.0), ('Marshall Islands', 16178.0), ('Nicaragua', 16137.0), ('Dominica', 16047.0), ('Djibouti', 15690.0), ('Central African Republic', 15440.0), ('Northern Mariana Islands', 14594.0), ('Gambia', 12626.0), ('Saint Martin (French part)', 12324.0), ('Vanuatu', 12019.0), ('Greenland', 11971.0), ('Yemen', 11945.0), ('Bonaire Sint Eustatius and Saba', 11922.0), ('Sint Maarten (Dutch part)', 11051.0), ('Eritrea', 10189.0), ('Saint Vincent and the Grenadines', 9674.0), ('Guinea-Bissau', 9614.0), ('Niger', 9515.0), ('Comoros', 9109.0), ('Antigua and Barbuda', 9106.0), ('American Samoa', 8359.0), ('Liberia', 7930.0), ('Sierra Leone', 7794.0), ('Chad', 7702.0), ('British Virgin Islands', 7392.0), ('Cook Islands', 7324.0), ('Turks and Caicos Islands', 6754.0), ('Sao Tome and Principe', 6749.0), ('Saint Kitts and Nevis', 6607.0), ('Palau', 6290.0), ('Saint Barthelemy', 5507.0), ('Nauru', 5393.0), ('Kiribati', 5085.0), ('Anguilla', 3904.0), ('Wallis and Futuna', 3760.0), ('Saint Pierre and Miquelon', 3426.0), ('Tuvalu', 2943.0), ('Saint Helena', 2166.0), ('Falkland Islands', 1923.0), ('Montserrat', 1403.0), ('Niue', 1059.0), ('Tokelau', 80.0), ('Vatican', 26.0), ('Pitcairn', 4.0), ('Bangladesh', 0.0), ('Bulgaria', 0.0), ('Canada', 0.0), ('Cuba', 0.0), ('Czechia', 0.0), ('England', 0.0), ('Estonia', 0.0), ('European Union', 0.0), ('Greece', 0.0), ('High income', 0.0), ('Hong Kong', 0.0), ('India', 0.0), ('Italy', 0.0), ('Lithuania', 0.0), ('Lower middle income', 0.0), ('Macao', 0.0), ('Malaysia', 0.0), ('Netherlands', 0.0), ('New Zealand', 0.0), ('North America', 0.0), ('North Korea', 0.0), ('Northern Cyprus', 0.0), ('Northern Ireland', 0.0), ('Scotland', 0.0), ('Sweden', 0.0), ('Taiwan', 0.0), ('Turkmenistan', 0.0), ('United States', 0.0), ('Upper middle income', 0.0), ('Wales', 0.0), ('Western Sahara', 0.0)]\n",
      "Country with highest covid cases is ('China', 99347448.0)\n"
     ]
    }
   ],
   "source": [
    "import pandas as pd\n",
    "import numpy as np\n",
    "\n",
    "df = pd.read_csv('covid-data.csv')\n",
    "\n",
    "df.iloc[:,4:len(df.columns)-1] = df.iloc[:,4:len(df.columns)-1].fillna(0)\n",
    "\n",
    "df = df.groupby([\"location\"],as_index=False).agg('last')\n",
    "df = df.drop([\"iso_code\",\"date\"],axis=1)\n",
    "df.set_index(\"location\",inplace=True)\n",
    "df = df.drop([\"Asia\", \"Africa\", \"Oceania\", \"Europe\",\"World\"])\n",
    "df.reset_index(inplace=True)\n",
    "df.columns = df.columns.str.replace(\"location\",\"Country\")\n",
    "#find total cases?\n",
    "\n",
    "tally = []\n",
    "for i in df.index:\n",
    "    tally.append((df.iloc[i][\"Country\"] ,df.iloc[i][\"total_cases\"]))\n",
    "\n",
    "def getmax(a):\n",
    "    return a[1]\n",
    "\n",
    "tally = sorted(tally,key=getmax, reverse=True)\n",
    "print(tally)\n",
    "print(f\"Country with highest covid cases is {tally[0]}\")\n"
   ]
  },
  {
   "cell_type": "code",
   "execution_count": 170,
   "metadata": {},
   "outputs": [
    {
     "name": "stdout",
     "output_type": "stream",
     "text": [
      "0         Asia\n",
      "1       Europe\n",
      "2       Africa\n",
      "3      Oceania\n",
      "4       Europe\n",
      "        ...   \n",
      "245    Oceania\n",
      "246     Africa\n",
      "247       Asia\n",
      "248     Africa\n",
      "249     Africa\n",
      "Name: continent, Length: 250, dtype: object 0      232948.0\n",
      "1      334863.0\n",
      "2      272017.0\n",
      "3        8359.0\n",
      "4       48015.0\n",
      "         ...   \n",
      "245      3760.0\n",
      "246         0.0\n",
      "247     11945.0\n",
      "248    349558.0\n",
      "249    266359.0\n",
      "Name: total_cases, Length: 250, dtype: float64\n"
     ]
    },
    {
     "ename": "TypeError",
     "evalue": "'value' must be an instance of str or bytes, not a None",
     "output_type": "error",
     "traceback": [
      "\u001b[1;31m---------------------------------------------------------------------------\u001b[0m",
      "\u001b[1;31mTypeError\u001b[0m                                 Traceback (most recent call last)",
      "Cell \u001b[1;32mIn [170], line 6\u001b[0m\n\u001b[0;32m      4\u001b[0m plt\u001b[38;5;241m.\u001b[39mtitle(\u001b[38;5;124m\"\u001b[39m\u001b[38;5;124mCovid cases\u001b[39m\u001b[38;5;124m\"\u001b[39m)\n\u001b[0;32m      5\u001b[0m \u001b[38;5;28mprint\u001b[39m(df[\u001b[38;5;124m\"\u001b[39m\u001b[38;5;124mcontinent\u001b[39m\u001b[38;5;124m\"\u001b[39m],df[\u001b[38;5;124m\"\u001b[39m\u001b[38;5;124mtotal_cases\u001b[39m\u001b[38;5;124m\"\u001b[39m])\n\u001b[1;32m----> 6\u001b[0m \u001b[43max\u001b[49m\u001b[38;5;241;43m.\u001b[39;49m\u001b[43mplot\u001b[49m\u001b[43m(\u001b[49m\u001b[43mdf\u001b[49m\u001b[43m[\u001b[49m\u001b[38;5;124;43m\"\u001b[39;49m\u001b[38;5;124;43mcontinent\u001b[39;49m\u001b[38;5;124;43m\"\u001b[39;49m\u001b[43m]\u001b[49m\u001b[43m,\u001b[49m\u001b[43mdf\u001b[49m\u001b[43m[\u001b[49m\u001b[38;5;124;43m\"\u001b[39;49m\u001b[38;5;124;43mtotal_cases\u001b[39;49m\u001b[38;5;124;43m\"\u001b[39;49m\u001b[43m]\u001b[49m\u001b[43m)\u001b[49m\n\u001b[0;32m      7\u001b[0m plt\u001b[38;5;241m.\u001b[39mshow()\n",
      "File \u001b[1;32m~\\AppData\\Roaming\\Python\\Python310\\site-packages\\matplotlib\\axes\\_axes.py:1688\u001b[0m, in \u001b[0;36mAxes.plot\u001b[1;34m(self, scalex, scaley, data, *args, **kwargs)\u001b[0m\n\u001b[0;32m   1445\u001b[0m \u001b[38;5;124;03m\"\"\"\u001b[39;00m\n\u001b[0;32m   1446\u001b[0m \u001b[38;5;124;03mPlot y versus x as lines and/or markers.\u001b[39;00m\n\u001b[0;32m   1447\u001b[0m \n\u001b[1;32m   (...)\u001b[0m\n\u001b[0;32m   1685\u001b[0m \u001b[38;5;124;03m(``'green'``) or hex strings (``'#008000'``).\u001b[39;00m\n\u001b[0;32m   1686\u001b[0m \u001b[38;5;124;03m\"\"\"\u001b[39;00m\n\u001b[0;32m   1687\u001b[0m kwargs \u001b[38;5;241m=\u001b[39m cbook\u001b[38;5;241m.\u001b[39mnormalize_kwargs(kwargs, mlines\u001b[38;5;241m.\u001b[39mLine2D)\n\u001b[1;32m-> 1688\u001b[0m lines \u001b[38;5;241m=\u001b[39m [\u001b[38;5;241m*\u001b[39m\u001b[38;5;28mself\u001b[39m\u001b[38;5;241m.\u001b[39m_get_lines(\u001b[38;5;241m*\u001b[39margs, data\u001b[38;5;241m=\u001b[39mdata, \u001b[38;5;241m*\u001b[39m\u001b[38;5;241m*\u001b[39mkwargs)]\n\u001b[0;32m   1689\u001b[0m \u001b[38;5;28;01mfor\u001b[39;00m line \u001b[38;5;129;01min\u001b[39;00m lines:\n\u001b[0;32m   1690\u001b[0m     \u001b[38;5;28mself\u001b[39m\u001b[38;5;241m.\u001b[39madd_line(line)\n",
      "File \u001b[1;32m~\\AppData\\Roaming\\Python\\Python310\\site-packages\\matplotlib\\axes\\_base.py:311\u001b[0m, in \u001b[0;36m_process_plot_var_args.__call__\u001b[1;34m(self, data, *args, **kwargs)\u001b[0m\n\u001b[0;32m    309\u001b[0m     this \u001b[38;5;241m+\u001b[39m\u001b[38;5;241m=\u001b[39m args[\u001b[38;5;241m0\u001b[39m],\n\u001b[0;32m    310\u001b[0m     args \u001b[38;5;241m=\u001b[39m args[\u001b[38;5;241m1\u001b[39m:]\n\u001b[1;32m--> 311\u001b[0m \u001b[38;5;28;01myield from\u001b[39;00m \u001b[38;5;28;43mself\u001b[39;49m\u001b[38;5;241;43m.\u001b[39;49m\u001b[43m_plot_args\u001b[49m\u001b[43m(\u001b[49m\n\u001b[0;32m    312\u001b[0m \u001b[43m    \u001b[49m\u001b[43mthis\u001b[49m\u001b[43m,\u001b[49m\u001b[43m \u001b[49m\u001b[43mkwargs\u001b[49m\u001b[43m,\u001b[49m\u001b[43m \u001b[49m\u001b[43mambiguous_fmt_datakey\u001b[49m\u001b[38;5;241;43m=\u001b[39;49m\u001b[43mambiguous_fmt_datakey\u001b[49m\u001b[43m)\u001b[49m\n",
      "File \u001b[1;32m~\\AppData\\Roaming\\Python\\Python310\\site-packages\\matplotlib\\axes\\_base.py:499\u001b[0m, in \u001b[0;36m_process_plot_var_args._plot_args\u001b[1;34m(self, tup, kwargs, return_kwargs, ambiguous_fmt_datakey)\u001b[0m\n\u001b[0;32m    496\u001b[0m     x, y \u001b[38;5;241m=\u001b[39m index_of(xy[\u001b[38;5;241m-\u001b[39m\u001b[38;5;241m1\u001b[39m])\n\u001b[0;32m    498\u001b[0m \u001b[38;5;28;01mif\u001b[39;00m \u001b[38;5;28mself\u001b[39m\u001b[38;5;241m.\u001b[39maxes\u001b[38;5;241m.\u001b[39mxaxis \u001b[38;5;129;01mis\u001b[39;00m \u001b[38;5;129;01mnot\u001b[39;00m \u001b[38;5;28;01mNone\u001b[39;00m:\n\u001b[1;32m--> 499\u001b[0m     \u001b[38;5;28;43mself\u001b[39;49m\u001b[38;5;241;43m.\u001b[39;49m\u001b[43maxes\u001b[49m\u001b[38;5;241;43m.\u001b[39;49m\u001b[43mxaxis\u001b[49m\u001b[38;5;241;43m.\u001b[39;49m\u001b[43mupdate_units\u001b[49m\u001b[43m(\u001b[49m\u001b[43mx\u001b[49m\u001b[43m)\u001b[49m\n\u001b[0;32m    500\u001b[0m \u001b[38;5;28;01mif\u001b[39;00m \u001b[38;5;28mself\u001b[39m\u001b[38;5;241m.\u001b[39maxes\u001b[38;5;241m.\u001b[39myaxis \u001b[38;5;129;01mis\u001b[39;00m \u001b[38;5;129;01mnot\u001b[39;00m \u001b[38;5;28;01mNone\u001b[39;00m:\n\u001b[0;32m    501\u001b[0m     \u001b[38;5;28mself\u001b[39m\u001b[38;5;241m.\u001b[39maxes\u001b[38;5;241m.\u001b[39myaxis\u001b[38;5;241m.\u001b[39mupdate_units(y)\n",
      "File \u001b[1;32m~\\AppData\\Roaming\\Python\\Python310\\site-packages\\matplotlib\\axis.py:1675\u001b[0m, in \u001b[0;36mAxis.update_units\u001b[1;34m(self, data)\u001b[0m\n\u001b[0;32m   1673\u001b[0m neednew \u001b[38;5;241m=\u001b[39m \u001b[38;5;28mself\u001b[39m\u001b[38;5;241m.\u001b[39mconverter \u001b[38;5;241m!=\u001b[39m converter\n\u001b[0;32m   1674\u001b[0m \u001b[38;5;28mself\u001b[39m\u001b[38;5;241m.\u001b[39mconverter \u001b[38;5;241m=\u001b[39m converter\n\u001b[1;32m-> 1675\u001b[0m default \u001b[38;5;241m=\u001b[39m \u001b[38;5;28;43mself\u001b[39;49m\u001b[38;5;241;43m.\u001b[39;49m\u001b[43mconverter\u001b[49m\u001b[38;5;241;43m.\u001b[39;49m\u001b[43mdefault_units\u001b[49m\u001b[43m(\u001b[49m\u001b[43mdata\u001b[49m\u001b[43m,\u001b[49m\u001b[43m \u001b[49m\u001b[38;5;28;43mself\u001b[39;49m\u001b[43m)\u001b[49m\n\u001b[0;32m   1676\u001b[0m \u001b[38;5;28;01mif\u001b[39;00m default \u001b[38;5;129;01mis\u001b[39;00m \u001b[38;5;129;01mnot\u001b[39;00m \u001b[38;5;28;01mNone\u001b[39;00m \u001b[38;5;129;01mand\u001b[39;00m \u001b[38;5;28mself\u001b[39m\u001b[38;5;241m.\u001b[39munits \u001b[38;5;129;01mis\u001b[39;00m \u001b[38;5;28;01mNone\u001b[39;00m:\n\u001b[0;32m   1677\u001b[0m     \u001b[38;5;28mself\u001b[39m\u001b[38;5;241m.\u001b[39mset_units(default)\n",
      "File \u001b[1;32m~\\AppData\\Roaming\\Python\\Python310\\site-packages\\matplotlib\\category.py:105\u001b[0m, in \u001b[0;36mStrCategoryConverter.default_units\u001b[1;34m(data, axis)\u001b[0m\n\u001b[0;32m    103\u001b[0m \u001b[38;5;66;03m# the conversion call stack is default_units -> axis_info -> convert\u001b[39;00m\n\u001b[0;32m    104\u001b[0m \u001b[38;5;28;01mif\u001b[39;00m axis\u001b[38;5;241m.\u001b[39munits \u001b[38;5;129;01mis\u001b[39;00m \u001b[38;5;28;01mNone\u001b[39;00m:\n\u001b[1;32m--> 105\u001b[0m     axis\u001b[38;5;241m.\u001b[39mset_units(\u001b[43mUnitData\u001b[49m\u001b[43m(\u001b[49m\u001b[43mdata\u001b[49m\u001b[43m)\u001b[49m)\n\u001b[0;32m    106\u001b[0m \u001b[38;5;28;01melse\u001b[39;00m:\n\u001b[0;32m    107\u001b[0m     axis\u001b[38;5;241m.\u001b[39munits\u001b[38;5;241m.\u001b[39mupdate(data)\n",
      "File \u001b[1;32m~\\AppData\\Roaming\\Python\\Python310\\site-packages\\matplotlib\\category.py:181\u001b[0m, in \u001b[0;36mUnitData.__init__\u001b[1;34m(self, data)\u001b[0m\n\u001b[0;32m    179\u001b[0m \u001b[38;5;28mself\u001b[39m\u001b[38;5;241m.\u001b[39m_counter \u001b[38;5;241m=\u001b[39m itertools\u001b[38;5;241m.\u001b[39mcount()\n\u001b[0;32m    180\u001b[0m \u001b[38;5;28;01mif\u001b[39;00m data \u001b[38;5;129;01mis\u001b[39;00m \u001b[38;5;129;01mnot\u001b[39;00m \u001b[38;5;28;01mNone\u001b[39;00m:\n\u001b[1;32m--> 181\u001b[0m     \u001b[38;5;28;43mself\u001b[39;49m\u001b[38;5;241;43m.\u001b[39;49m\u001b[43mupdate\u001b[49m\u001b[43m(\u001b[49m\u001b[43mdata\u001b[49m\u001b[43m)\u001b[49m\n",
      "File \u001b[1;32m~\\AppData\\Roaming\\Python\\Python310\\site-packages\\matplotlib\\category.py:216\u001b[0m, in \u001b[0;36mUnitData.update\u001b[1;34m(self, data)\u001b[0m\n\u001b[0;32m    213\u001b[0m convertible \u001b[38;5;241m=\u001b[39m \u001b[38;5;28;01mTrue\u001b[39;00m\n\u001b[0;32m    214\u001b[0m \u001b[38;5;28;01mfor\u001b[39;00m val \u001b[38;5;129;01min\u001b[39;00m OrderedDict\u001b[38;5;241m.\u001b[39mfromkeys(data):\n\u001b[0;32m    215\u001b[0m     \u001b[38;5;66;03m# OrderedDict just iterates over unique values in data.\u001b[39;00m\n\u001b[1;32m--> 216\u001b[0m     \u001b[43m_api\u001b[49m\u001b[38;5;241;43m.\u001b[39;49m\u001b[43mcheck_isinstance\u001b[49m\u001b[43m(\u001b[49m\u001b[43m(\u001b[49m\u001b[38;5;28;43mstr\u001b[39;49m\u001b[43m,\u001b[49m\u001b[43m \u001b[49m\u001b[38;5;28;43mbytes\u001b[39;49m\u001b[43m)\u001b[49m\u001b[43m,\u001b[49m\u001b[43m \u001b[49m\u001b[43mvalue\u001b[49m\u001b[38;5;241;43m=\u001b[39;49m\u001b[43mval\u001b[49m\u001b[43m)\u001b[49m\n\u001b[0;32m    217\u001b[0m     \u001b[38;5;28;01mif\u001b[39;00m convertible:\n\u001b[0;32m    218\u001b[0m         \u001b[38;5;66;03m# this will only be called so long as convertible is True.\u001b[39;00m\n\u001b[0;32m    219\u001b[0m         convertible \u001b[38;5;241m=\u001b[39m \u001b[38;5;28mself\u001b[39m\u001b[38;5;241m.\u001b[39m_str_is_convertible(val)\n",
      "File \u001b[1;32m~\\AppData\\Roaming\\Python\\Python310\\site-packages\\matplotlib\\_api\\__init__.py:93\u001b[0m, in \u001b[0;36mcheck_isinstance\u001b[1;34m(_types, **kwargs)\u001b[0m\n\u001b[0;32m     91\u001b[0m     names\u001b[38;5;241m.\u001b[39mremove(\u001b[38;5;124m\"\u001b[39m\u001b[38;5;124mNone\u001b[39m\u001b[38;5;124m\"\u001b[39m)\n\u001b[0;32m     92\u001b[0m     names\u001b[38;5;241m.\u001b[39mappend(\u001b[38;5;124m\"\u001b[39m\u001b[38;5;124mNone\u001b[39m\u001b[38;5;124m\"\u001b[39m)\n\u001b[1;32m---> 93\u001b[0m \u001b[38;5;28;01mraise\u001b[39;00m \u001b[38;5;167;01mTypeError\u001b[39;00m(\n\u001b[0;32m     94\u001b[0m     \u001b[38;5;124m\"\u001b[39m\u001b[38;5;132;01m{!r}\u001b[39;00m\u001b[38;5;124m must be an instance of \u001b[39m\u001b[38;5;132;01m{}\u001b[39;00m\u001b[38;5;124m, not a \u001b[39m\u001b[38;5;132;01m{}\u001b[39;00m\u001b[38;5;124m\"\u001b[39m\u001b[38;5;241m.\u001b[39mformat(\n\u001b[0;32m     95\u001b[0m         k,\n\u001b[0;32m     96\u001b[0m         \u001b[38;5;124m\"\u001b[39m\u001b[38;5;124m, \u001b[39m\u001b[38;5;124m\"\u001b[39m\u001b[38;5;241m.\u001b[39mjoin(names[:\u001b[38;5;241m-\u001b[39m\u001b[38;5;241m1\u001b[39m]) \u001b[38;5;241m+\u001b[39m \u001b[38;5;124m\"\u001b[39m\u001b[38;5;124m or \u001b[39m\u001b[38;5;124m\"\u001b[39m \u001b[38;5;241m+\u001b[39m names[\u001b[38;5;241m-\u001b[39m\u001b[38;5;241m1\u001b[39m]\n\u001b[0;32m     97\u001b[0m         \u001b[38;5;28;01mif\u001b[39;00m \u001b[38;5;28mlen\u001b[39m(names) \u001b[38;5;241m>\u001b[39m \u001b[38;5;241m1\u001b[39m \u001b[38;5;28;01melse\u001b[39;00m names[\u001b[38;5;241m0\u001b[39m],\n\u001b[0;32m     98\u001b[0m         type_name(\u001b[38;5;28mtype\u001b[39m(v))))\n",
      "\u001b[1;31mTypeError\u001b[0m: 'value' must be an instance of str or bytes, not a None"
     ]
    },
    {
     "data": {
      "image/png": "[encoded data removed]",
      "text/plain": [
       "<Figure size 2000x1000 with 1 Axes>"
      ]
     },
     "metadata": {},
     "output_type": "display_data"
    }
   ],
   "source": [
    "import matplotlib.pyplot as plt\n",
    "\n",
    "fig,ax = plt.subplots(figsize=(20,10))\n",
    "plt.title(\"Covid cases\")\n",
    "print(df[\"continent\"],df[\"total_cases\"])\n",
    "ax.plot(df[\"continent\"],df[\"total_cases\"])\n",
    "plt.show()"
   ]
  }
 ],
 "metadata": {
  "kernelspec": {
   "display_name": "Python 3",
   "language": "python",
   "name": "python3"
  },
  "language_info": {
   "codemirror_mode": {
    "name": "ipython",
    "version": 3
   },
   "file_extension": ".py",
   "mimetype": "text/x-python",
   "name": "python",
   "nbconvert_exporter": "python",
   "pygments_lexer": "ipython3",
   "version": "3.10.8"
  }
 },
 "nbformat": 4,
 "nbformat_minor": 2
}
